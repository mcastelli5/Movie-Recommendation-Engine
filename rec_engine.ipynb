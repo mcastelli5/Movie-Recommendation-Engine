{
 "cells": [
  {
   "cell_type": "code",
   "execution_count": 115,
   "metadata": {},
   "outputs": [],
   "source": [
    "# Setup environment\n",
    "from IPython.display import display\n",
    "import pandas as pd\n",
    "from nltk.stem import WordNetLemmatizer\n",
    "from nltk.corpus import stopwords\n",
    "from nltk.tokenize import word_tokenize\n",
    "import re\n",
    "from sklearn.feature_extraction.text import TfidfVectorizer\n",
    "from sklearn.feature_extraction.text import CountVectorizer\n",
    "from sklearn.metrics.pairwise import cosine_similarity\n",
    "import spacy\n",
    "from gensim.models.word2vec import Word2Vec\n",
    "from collections import Counter\n",
    "from string import punctuation\n",
    "from ast import literal_eval\n"
   ]
  },
  {
   "cell_type": "code",
   "execution_count": 116,
   "metadata": {},
   "outputs": [],
   "source": [
    "movie_data = pd.read_csv('data/preprocessed_movies.csv')\n",
    "user_data = ['[Comedy, Romance], [Ryan Gosling], skip, skip']"
   ]
  },
  {
   "cell_type": "code",
   "execution_count": 119,
   "metadata": {},
   "outputs": [],
   "source": [
    "def make_recommendation(movie_data: pd.DataFrame, user_data: list):\n",
    "    \"\"\"\n",
    "    Args:\n",
    "        movie_data (df): dataframe containing movie attributes\n",
    "        user_data (list): list containing user movie preferences\n",
    "    \"\"\"\n",
    "    # Create copy of last row of dataset which will be used for user inputs\n",
    "    new_row = movie_data.iloc[-1:, :].copy(deep=True)\n",
    "    \n",
    "    # Add user input to the new row\n",
    "    new_row.iloc[-1] = \" \".join(user_data)\n",
    "    \n",
    "    # Add new row to the dataset\n",
    "    movie_data = movie_data.append(new_row)\n",
    "    \n",
    "    # Vectorize matrix\n",
    "    count = CountVectorizer(stop_words='english')\n",
    "    count_matrix = count.fit_transform(movie_data.soup)\n",
    "    \n",
    "    # Cosine Similarity to get a similarity matrix\n",
    "    cosine_sim = cosine_similarity(count_matrix, count_matrix)\n",
    "    \n",
    "    # Sort similarities from highest to lowest\n",
    "    scores = list(enumerate(cosine_sim[-1,:]))\n",
    "    sorted(scores, key=lambda x: x[1], reverse=True)\n",
    "    \n",
    "    # Match similarities\n",
    "    ranked_titles = []\n",
    "    for i in range(1,11):\n",
    "        indx = scores[i][0]\n",
    "        ranked_titles.append([movie_data['Series_Title'].iloc[indx], movie_data['IMDB_Rating'].iloc[indx]])\n",
    "    \n",
    "    return ranked_titles"
   ]
  },
  {
   "cell_type": "code",
   "execution_count": 120,
   "metadata": {},
   "outputs": [
    {
     "name": "stderr",
     "output_type": "stream",
     "text": [
      "/var/folders/04/382s5ryn4cg90lmcyzj298g00000gn/T/ipykernel_24061/56451984.py:14: FutureWarning: The frame.append method is deprecated and will be removed from pandas in a future version. Use pandas.concat instead.\n",
      "  movie_data = movie_data.append(new_row)\n"
     ]
    },
    {
     "data": {
      "text/plain": [
       "[['The Godfather', 9.2],\n",
       " ['The Dark Knight', 9.0],\n",
       " ['The Godfather: Part II', 9.0],\n",
       " ['12 Angry Men', 9.0],\n",
       " ['The Lord of the Rings: The Return of the King', 8.9],\n",
       " ['Pulp Fiction', 8.9],\n",
       " [\"Schindler's List\", 8.9],\n",
       " ['Inception', 8.8],\n",
       " ['Fight Club', 8.8],\n",
       " ['The Lord of the Rings: The Fellowship of the Ring', 8.8]]"
      ]
     },
     "execution_count": 120,
     "metadata": {},
     "output_type": "execute_result"
    }
   ],
   "source": [
    "make_recommendation(movie_data=movie_data, user_data=user_data)"
   ]
  },
  {
   "cell_type": "code",
   "execution_count": null,
   "metadata": {},
   "outputs": [],
   "source": []
  }
 ],
 "metadata": {
  "language_info": {
   "name": "python"
  },
  "orig_nbformat": 4
 },
 "nbformat": 4,
 "nbformat_minor": 2
}
