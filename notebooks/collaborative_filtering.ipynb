{
 "cells": [
  {
   "cell_type": "code",
   "execution_count": 20,
   "metadata": {},
   "outputs": [],
   "source": [
    "# Setup environment\n",
    "import sys\n",
    "import pandas as pd\n",
    "import numpy as np\n",
    "from IPython.display import display\n",
    "\n",
    "from sklearn.feature_extraction.text import CountVectorizer\n",
    "from sklearn.metrics.pairwise import cosine_similarity\n",
    "\n",
    "from collecting_user_data import User\n",
    "\n",
    "from surprise import Dataset\n",
    "from surprise import Reader\n",
    "from surprise.model_selection import cross_validate\n",
    "from surprise import SVD"
   ]
  },
  {
   "cell_type": "code",
   "execution_count": 21,
   "metadata": {},
   "outputs": [],
   "source": [
    "# Ingest ratings csv file to gather user ratings of movies\n",
    "ratings = pd.read_csv(\"../data/ratings_small.csv\")"
   ]
  },
  {
   "cell_type": "code",
   "execution_count": 22,
   "metadata": {},
   "outputs": [],
   "source": [
    "# Instantiate reader object from scikit-surprise library\n",
    "reader = Reader()"
   ]
  },
  {
   "cell_type": "code",
   "execution_count": 23,
   "metadata": {},
   "outputs": [],
   "source": [
    "# Load dataset into surprise-ready file format\n",
    "data = Dataset.load_from_df(ratings[['userId', 'movieId', 'rating']], reader)"
   ]
  },
  {
   "cell_type": "code",
   "execution_count": 24,
   "metadata": {},
   "outputs": [
    {
     "name": "stdout",
     "output_type": "stream",
     "text": [
      "Evaluating RMSE, MAE of algorithm SVD on 5 split(s).\n",
      "\n",
      "                  Fold 1  Fold 2  Fold 3  Fold 4  Fold 5  Mean    Std     \n",
      "RMSE (testset)    0.9067  0.9092  0.8957  0.8964  0.8822  0.8980  0.0096  \n",
      "MAE (testset)     0.6984  0.6987  0.6896  0.6892  0.6812  0.6914  0.0066  \n",
      "Fit time          3.24    3.24    3.23    3.14    3.16    3.20    0.04    \n",
      "Test time         0.10    0.10    0.06    0.10    0.10    0.09    0.01    \n"
     ]
    },
    {
     "data": {
      "text/plain": [
       "{'test_rmse': array([0.90671714, 0.90915045, 0.89570149, 0.89642838, 0.88219107]),\n",
       " 'test_mae': array([0.6983885 , 0.69873338, 0.68960671, 0.68922747, 0.68120061]),\n",
       " 'fit_time': (3.2448806762695312,\n",
       "  3.2443220615386963,\n",
       "  3.2316229343414307,\n",
       "  3.1430327892303467,\n",
       "  3.15800404548645),\n",
       " 'test_time': (0.1014869213104248,\n",
       "  0.10225415229797363,\n",
       "  0.06289792060852051,\n",
       "  0.09622001647949219,\n",
       "  0.0999138355255127)}"
      ]
     },
     "execution_count": 24,
     "metadata": {},
     "output_type": "execute_result"
    }
   ],
   "source": [
    "# Cross-validate data with SVD algorithm and use RMSE and MAE as metrics\n",
    "cross_validate(algo=SVD(), data=data, measures=['RMSE', 'MAE'], cv=5, verbose=True)"
   ]
  },
  {
   "cell_type": "code",
   "execution_count": null,
   "metadata": {},
   "outputs": [],
   "source": []
  }
 ],
 "metadata": {
  "kernelspec": {
   "display_name": "Python 3.9.12 ('FB')",
   "language": "python",
   "name": "python3"
  },
  "language_info": {
   "codemirror_mode": {
    "name": "ipython",
    "version": 3
   },
   "file_extension": ".py",
   "mimetype": "text/x-python",
   "name": "python",
   "nbconvert_exporter": "python",
   "pygments_lexer": "ipython3",
   "version": "3.9.12"
  },
  "orig_nbformat": 4,
  "vscode": {
   "interpreter": {
    "hash": "a41766145ca455c671e2fa08c5efe05a164e5754a0f066148bf7bdb6b7321024"
   }
  }
 },
 "nbformat": 4,
 "nbformat_minor": 2
}
