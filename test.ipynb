{
 "cells": [
  {
   "cell_type": "code",
   "execution_count": 1,
   "metadata": {},
   "outputs": [
    {
     "name": "stdout",
     "output_type": "stream",
     "text": [
      "Evaluating RMSE of algorithm NMF on 5 split(s).\n",
      "\n",
      "                  Fold 1  Fold 2  Fold 3  Fold 4  Fold 5  Mean    Std     \n",
      "RMSE (testset)    0.9549  0.9422  0.9615  0.9403  0.9412  0.9480  0.0086  \n",
      "Fit time          2.99    3.00    3.01    2.99    2.94    2.99    0.02    \n",
      "Test time         0.05    0.10    0.05    0.10    0.05    0.07    0.02    \n"
     ]
    }
   ],
   "source": [
    "# Test model baseline performance\n",
    "from src.train_algo import train_algo\n",
    "\n",
    "train_algo()"
   ]
  },
  {
   "cell_type": "code",
   "execution_count": null,
   "metadata": {},
   "outputs": [],
   "source": [
    "# Test different recommendation scenarios (with same values building on top of each other to see how the recommendations change)"
   ]
  },
  {
   "cell_type": "code",
   "execution_count": null,
   "metadata": {},
   "outputs": [],
   "source": [
    "from src.top_movies_rec import top_movies_rec\n",
    "from src.content_based_rec import content_based_rec\n",
    "from src.collab_filtering_rec import collab_based_rec\n",
    "from src.hybrid_rec import hybrid_rec\n",
    "\n",
    "def get_rec(search_terms: list = [], fav_movie: str = None):\n",
    "    \"\"\"\n",
    "    Summary:\n",
    "        decide what strategy is used to return recommnedations to the user based on the preferences that they provided.\n",
    "\n",
    "    Args:\n",
    "        search_terms (list, optional): keywords input by the user that can be used to match similar words in movies. Defaults to [].\n",
    "        fave_movie (str, optional): user's favorite movie that can be used to find similar users that have rated other movies. Defaults to None.\n",
    "    \"\"\"\n",
    "    \n",
    "    # Top Movies Recommendation\n",
    "    if not search_terms and not fav_movie:\n",
    "        print(\"top_movies_rec\")\n",
    "        rec_df = top_movies_rec()\n",
    "    \n",
    "    # Content-based Recommendation\n",
    "    elif search_terms and not fav_movie:\n",
    "        print(\"content_based_rec\")\n",
    "        rec_df = content_based_rec(search_terms=search_terms)\n",
    "    \n",
    "    # Collaborative Filtering Recommendation\n",
    "    elif not search_terms and fav_movie:\n",
    "        print(\"collab_based_rec\")\n",
    "        rec_df = collab_based_rec(fav_movie=fav_movie)\n",
    "    \n",
    "    # Hybrid Recommendation\n",
    "    elif search_terms and fav_movie:\n",
    "        print(\"hybrid_rec\")\n",
    "        rec_df = hybrid_rec(search_terms, fav_movie)\n",
    "    \n",
    "    # Return the recommendations to be shown to the user\n",
    "    return rec_df"
   ]
  },
  {
   "cell_type": "code",
   "execution_count": null,
   "metadata": {},
   "outputs": [],
   "source": [
    "display(get_rec())"
   ]
  },
  {
   "cell_type": "code",
   "execution_count": null,
   "metadata": {},
   "outputs": [],
   "source": [
    "display(get_rec(search_terms=['comedy', 'thriller', 'hilarious', 'fun']))"
   ]
  },
  {
   "cell_type": "code",
   "execution_count": null,
   "metadata": {},
   "outputs": [],
   "source": [
    "display(get_rec(search_terms=['comedy', 'thriller', 'hilarious', 'fun'], fav_movie=\"The Dark Knight\"))"
   ]
  },
  {
   "cell_type": "code",
   "execution_count": null,
   "metadata": {},
   "outputs": [],
   "source": [
    "collab_df = get_rec(fav_movie=\"The Dark Knight\")\n",
    "display(collab_df)"
   ]
  },
  {
   "cell_type": "code",
   "execution_count": null,
   "metadata": {},
   "outputs": [],
   "source": [
    "display(content_based_rec(movies_df=collab_df, search_terms=['comedy', 'thriller', 'hilarious', 'fun']))"
   ]
  },
  {
   "cell_type": "code",
   "execution_count": null,
   "metadata": {},
   "outputs": [],
   "source": []
  }
 ],
 "metadata": {
  "kernelspec": {
   "display_name": "Python 3.9.12 ('FB')",
   "language": "python",
   "name": "python3"
  },
  "language_info": {
   "codemirror_mode": {
    "name": "ipython",
    "version": 3
   },
   "file_extension": ".py",
   "mimetype": "text/x-python",
   "name": "python",
   "nbconvert_exporter": "python",
   "pygments_lexer": "ipython3",
   "version": "3.9.12"
  },
  "orig_nbformat": 4,
  "vscode": {
   "interpreter": {
    "hash": "a41766145ca455c671e2fa08c5efe05a164e5754a0f066148bf7bdb6b7321024"
   }
  }
 },
 "nbformat": 4,
 "nbformat_minor": 2
}
