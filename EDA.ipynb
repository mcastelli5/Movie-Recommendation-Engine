{
 "cells": [
  {
   "cell_type": "code",
   "execution_count": null,
   "metadata": {},
   "outputs": [],
   "source": [
    "# Setup environment\n",
    "import pandas as pd\n",
    "import numpy as np\n",
    "import matplotlib.pyplot as plt\n",
    "%matplotlib inline\n",
    "import seaborn as sns\n",
    "from IPython.display import display\n",
    "from ast import literal_eval"
   ]
  },
  {
   "cell_type": "markdown",
   "metadata": {},
   "source": [
    "Ingest and Combine Sources to make 1 Movies file"
   ]
  },
  {
   "cell_type": "code",
   "execution_count": null,
   "metadata": {},
   "outputs": [],
   "source": [
    "# Read different data files into notebook\n",
    "metadata = pd.read_csv(\"data/movies_metadata.csv\")\n",
    "keywords = pd.read_csv(\"data/keywords.csv\")\n",
    "ratings = pd.read_csv(\"data/ratings_small.csv\")"
   ]
  },
  {
   "cell_type": "code",
   "execution_count": null,
   "metadata": {},
   "outputs": [],
   "source": [
    "# Check the shapes of all dataframes and the columns that each dataset includes\n",
    "print(\"metadata shape:\", list(metadata.shape))\n",
    "print(\"metadata columns name:\", metadata.columns)\n",
    "\n",
    "print(\"ratings shape:\", ratings.shape)\n",
    "print(\"ratings columns name:\", list(ratings.columns))\n",
    "\n",
    "print(\"keywords shape:\", keywords.shape)\n",
    "print(\"columns name:\", list(keywords.columns))"
   ]
  },
  {
   "cell_type": "code",
   "execution_count": null,
   "metadata": {},
   "outputs": [],
   "source": [
    "# Check the column dtypes for metadata dataframe\n",
    "metadata.dtypes"
   ]
  },
  {
   "cell_type": "code",
   "execution_count": null,
   "metadata": {},
   "outputs": [],
   "source": [
    "# Check the column dtypes for keywords dataframe\n",
    "keywords.dtypes"
   ]
  },
  {
   "cell_type": "code",
   "execution_count": null,
   "metadata": {},
   "outputs": [],
   "source": [
    "# Check the column dtypes for ratings dataframe\n",
    "ratings.dtypes"
   ]
  },
  {
   "cell_type": "code",
   "execution_count": null,
   "metadata": {},
   "outputs": [],
   "source": [
    "# Filter movie metadata dataframe to include movies in Englist ONLY and non-video movies (youtube short clips)\n",
    "print(\"metadata shape:\", list(metadata.shape))\n",
    "metadata = metadata[(metadata.original_language == \"en\") & (metadata.video == False)]\n",
    "print(\"metadata shape:\", list(metadata.shape))\n"
   ]
  },
  {
   "cell_type": "code",
   "execution_count": null,
   "metadata": {},
   "outputs": [],
   "source": [
    "# Change metadata ID col to int type to merge with other datasets\n",
    "metadata[\"id\"] = metadata[\"id\"].astype('int')"
   ]
  },
  {
   "cell_type": "code",
   "execution_count": null,
   "metadata": {},
   "outputs": [],
   "source": [
    "# Merge dataframes on the \"id\" col to create one movie dataframe\n",
    "movies = metadata.merge(keywords, on='id')\n",
    "print(\"movies shape:\", list(movies.shape))\n",
    "print(\"movies columns:\", list(movies.columns))"
   ]
  },
  {
   "cell_type": "code",
   "execution_count": null,
   "metadata": {},
   "outputs": [],
   "source": [
    "# Remove columns that are not necessary\n",
    "drop_cols = ['budget', 'homepage', 'imdb_id', 'original_language', 'revenue', 'spoken_languages', 'video', 'production_countries', 'belongs_to_collection', 'tagline']\n",
    "movies.drop(drop_cols, inplace=True, axis=1)\n",
    "print(\"movies shape:\", list(movies.shape))\n",
    "print(\"movies columns:\", list(movies.columns))\n"
   ]
  },
  {
   "cell_type": "code",
   "execution_count": null,
   "metadata": {},
   "outputs": [],
   "source": [
    "display(movies)"
   ]
  },
  {
   "cell_type": "code",
   "execution_count": null,
   "metadata": {},
   "outputs": [],
   "source": [
    "# Change values in columns that are \"stringified\" to their original python data types (lists)\n",
    "features = ['genres', 'production_companies', 'keywords']\n",
    "for feature in features:\n",
    "    movies[feature] = movies[feature].apply(literal_eval)\n",
    "    \n",
    "print(type(movies.genres[0]))"
   ]
  },
  {
   "cell_type": "code",
   "execution_count": null,
   "metadata": {},
   "outputs": [],
   "source": [
    "# Create a function to extract valuable data from list values in certain columns\n",
    "def get_list_data(value):\n",
    "    if isinstance(value, list):\n",
    "        return [val['name'] for val in value]\n",
    "    else:\n",
    "        return []"
   ]
  },
  {
   "cell_type": "code",
   "execution_count": null,
   "metadata": {},
   "outputs": [],
   "source": [
    "# Apply get_list_data to each column with list values and return the important values\n",
    "for feature in features:\n",
    "    movies[feature] = movies[feature].apply(get_list_data)"
   ]
  },
  {
   "cell_type": "code",
   "execution_count": null,
   "metadata": {},
   "outputs": [],
   "source": [
    "display(movies)"
   ]
  },
  {
   "cell_type": "markdown",
   "metadata": {},
   "source": [
    "EDA Entire Movie Dataset"
   ]
  },
  {
   "cell_type": "code",
   "execution_count": null,
   "metadata": {},
   "outputs": [],
   "source": [
    "# Check Non-Null counts and column dtypes\n",
    "movies.info()"
   ]
  },
  {
   "cell_type": "code",
   "execution_count": null,
   "metadata": {},
   "outputs": [],
   "source": [
    "# Check rows that are missing overview values\n",
    "print(movies.shape)\n",
    "print(movies.dropna().shape)"
   ]
  },
  {
   "cell_type": "code",
   "execution_count": null,
   "metadata": {},
   "outputs": [],
   "source": [
    "movies.describe().transpose()"
   ]
  },
  {
   "cell_type": "code",
   "execution_count": null,
   "metadata": {},
   "outputs": [],
   "source": []
  }
 ],
 "metadata": {
  "interpreter": {
   "hash": "ceb646659f0f0ee3c11a5046665a56b094d3d4be65390357fbf08e2da8960eb3"
  },
  "kernelspec": {
   "display_name": "FourthBrain",
   "language": "python",
   "name": "python3"
  },
  "language_info": {
   "codemirror_mode": {
    "name": "ipython",
    "version": 3
   },
   "file_extension": ".py",
   "mimetype": "text/x-python",
   "name": "python",
   "nbconvert_exporter": "python",
   "pygments_lexer": "ipython3",
   "version": "3.10.5"
  },
  "orig_nbformat": 4
 },
 "nbformat": 4,
 "nbformat_minor": 2
}
