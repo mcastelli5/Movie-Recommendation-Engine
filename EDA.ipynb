{
 "cells": [
  {
   "cell_type": "code",
   "execution_count": null,
   "metadata": {},
   "outputs": [],
   "source": [
    "# Setup environment\n",
    "import pandas as pd\n",
    "import numpy as np\n"
   ]
  }
 ],
 "metadata": {
  "interpreter": {
   "hash": "ceb646659f0f0ee3c11a5046665a56b094d3d4be65390357fbf08e2da8960eb3"
  },
  "kernelspec": {
   "display_name": "Python 3.10.4 ('FBCap')",
   "language": "python",
   "name": "python3"
  },
  "language_info": {
   "name": "python",
   "version": "3.10.4"
  },
  "orig_nbformat": 4
 },
 "nbformat": 4,
 "nbformat_minor": 2
}
